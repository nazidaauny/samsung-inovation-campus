{
  "nbformat": 4,
  "nbformat_minor": 0,
  "metadata": {
    "colab": {
      "provenance": [],
      "authorship_tag": "ABX9TyPrA35g/N1RpEqeLiKMrxS1",
      "include_colab_link": true
    },
    "kernelspec": {
      "name": "python3",
      "display_name": "Python 3"
    },
    "language_info": {
      "name": "python"
    }
  },
  "cells": [
    {
      "cell_type": "markdown",
      "metadata": {
        "id": "view-in-github",
        "colab_type": "text"
      },
      "source": [
        "<a href=\"https://colab.research.google.com/github/nazidaauny/samsung-inovation-campus/blob/main/Liat_and_dictionary_Nazida_Izzal_Auny_Politeknik_Negeri_Semarang.ipynb\" target=\"_parent\"><img src=\"https://colab.research.google.com/assets/colab-badge.svg\" alt=\"Open In Colab\"/></a>"
      ]
    },
    {
      "cell_type": "code",
      "execution_count": 2,
      "metadata": {
        "colab": {
          "base_uri": "https://localhost:8080/"
        },
        "id": "jn8eRjWDDfEg",
        "outputId": "b5593793-7fbc-4e1e-abb2-9e341f9197b2"
      },
      "outputs": [
        {
          "output_type": "stream",
          "name": "stdout",
          "text": [
            "List siswa awal: ['Ganang', 'Adiyatma', 'Cahyani', 'Nazida', 'Eka']\n",
            "Dictionary nilai siswa awal: {'Ganang': 87, 'Adiyatma': 80, 'Cahyani': 75, 'Nazida': 85, 'Eka': 90}\n",
            "List siswa setelah tambah & hapus: ['Ganang', 'Adiyatma', 'Nazida', 'Eka', 'Farhan']\n",
            "Siswa pertama: Ganang\n",
            "Siswa terakhir: Farhan\n",
            "3 siswa terakhir: ['Nazida', 'Eka', 'Farhan']\n",
            "Index dan nama siswa:\n",
            "0 : Ganang\n",
            "1 : Adiyatma\n",
            "2 : Nazida\n",
            "3 : Eka\n",
            "4 : Farhan\n",
            "Dictionary setelah update & hapus: {'Ganang': 95, 'Adiyatma': 80, 'Nazida': 85, 'Eka': 90}\n",
            "Dictionary setelah ganti nama: {'Ganang': 95, 'Nazida': 85, 'Eka': 90, 'Bagas': 80}\n"
          ]
        }
      ],
      "source": [
        "siswa = [\"Ganang\", \"Adiyatma\", \"Cahyani\", \"Nazida\", \"Eka\"]\n",
        "print(\"List siswa awal:\", siswa)\n",
        "\n",
        "nilai_siswa = {\n",
        "    \"Ganang\": 87,\n",
        "    \"Adiyatma\": 80,\n",
        "    \"Cahyani\": 75,\n",
        "    \"Nazida\": 85,\n",
        "    \"Eka\": 90\n",
        "}\n",
        "print(\"Dictionary nilai siswa awal:\", nilai_siswa)\n",
        "\n",
        "\n",
        "siswa.append(\"Farhan\")\n",
        "siswa.remove(\"Cahyani\")\n",
        "print(\"List siswa setelah tambah & hapus:\", siswa)\n",
        "\n",
        "\n",
        "print(\"Siswa pertama:\", siswa[0])\n",
        "print(\"Siswa terakhir:\", siswa[-1])\n",
        "print(\"3 siswa terakhir:\", siswa[-3:])\n",
        "\n",
        "print(\"Index dan nama siswa:\")\n",
        "for idx, nama in enumerate(siswa):\n",
        "    print(idx, \":\", nama)\n",
        "\n",
        "\n",
        "nilai_siswa[\"Ganang\"] = 95\n",
        "nilai_siswa.pop(\"Cahyani\", None)\n",
        "print(\"Dictionary setelah update & hapus:\", nilai_siswa)\n",
        "\n",
        "\n",
        "nilai_siswa[\"Bagas\"] = nilai_siswa.pop(\"Adiyatma\")\n",
        "print(\"Dictionary setelah ganti nama:\", nilai_siswa)"
      ]
    }
  ]
}